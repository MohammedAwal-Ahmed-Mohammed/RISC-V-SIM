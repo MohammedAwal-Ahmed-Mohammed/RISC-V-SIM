{
 "cells": [
  {
   "cell_type": "code",
   "execution_count": null,
   "id": "6c2fb41f",
   "metadata": {
    "vscode": {
     "languageId": "plaintext"
    }
   },
   "outputs": [],
   "source": [
    "echo \"# RISC-V-SIM\" >> README.md\n",
    "git init\n",
    "git add README.md\n",
    "git commit -m \"first commit\"\n",
    "git branch -M main\n",
    "git remote add origin https://github.com/MohammedAwal-Ahmed-Mohammed/RISC-V-SIM.git\n",
    "git push -u origin main\n",
    "\n",
    "\n"
   ]
  }
 ],
 "metadata": {
  "language_info": {
   "name": "python"
  }
 },
 "nbformat": 4,
 "nbformat_minor": 5
}
